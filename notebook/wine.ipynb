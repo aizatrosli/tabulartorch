{
 "cells": [
  {
   "cell_type": "code",
   "execution_count": 1,
   "id": "4f579361-5dcd-4aec-a56a-c8bbabfa72d2",
   "metadata": {},
   "outputs": [],
   "source": [
    "import torch\n",
    "import torch.nn as nn\n",
    "import torch.nn.functional as F\n",
    "from torch import nn, optim\n",
    "from torch.autograd import Variable\n",
    "from sklearn.decomposition import PCA\n",
    "import matplotlib.pyplot as plt\n",
    "\n",
    "import pandas as pd\n",
    "import numpy as np\n",
    "from sklearn import preprocessing\n",
    "from sklearn.model_selection import train_test_split\n",
    "from sklearn.datasets import load_wine\n",
    "\n",
    "\n",
    "DATA_PATH = \"../data/wine.csv\"\n"
   ]
  },
  {
   "cell_type": "code",
   "execution_count": 2,
   "id": "b16edd86-8fec-4337-a4b2-f69c905ef3e7",
   "metadata": {},
   "outputs": [
    {
     "data": {
      "text/plain": [
       "device(type='cuda')"
      ]
     },
     "execution_count": 2,
     "metadata": {},
     "output_type": "execute_result"
    }
   ],
   "source": [
    "device = torch.device('cuda' if torch.cuda.is_available() else 'cpu')\n",
    "device"
   ]
  },
  {
   "cell_type": "code",
   "execution_count": 3,
   "id": "16f00a18-ac20-43c5-9d1d-6513a4e8b817",
   "metadata": {},
   "outputs": [],
   "source": [
    "def load_data(DATA_PATH):\n",
    "    #df = pd.read_csv(DATA_PATH, sep=',', header=None, names=['Wine','Alcohol','Malic.acid','Ash','Acl','Mg','Phenols','Flavanoids','Nonflavanoid.phenols','Proanth','Color.int','Hue','OD','Proline'])\n",
    "    df = pd.read_csv(DATA_PATH)\n",
    "    df = df.fillna(-99) # replace nan with -99\n",
    "    df_base = df.iloc[:, 1:]\n",
    "    df_wine = df.iloc[:,0].values# get wine Label\n",
    "    x = df_base.values.reshape(-1, df_base.shape[1]).astype('float32')\n",
    "    standardizer = preprocessing.StandardScaler() # stadardize values\n",
    "    x = standardizer.fit_transform(x)    \n",
    "    return x, standardizer, df_wine # 3- Dimensions"
   ]
  },
  {
   "cell_type": "code",
   "execution_count": 4,
   "id": "27e0e4bb-0ee7-4b89-b249-2e6c0be5b8e8",
   "metadata": {},
   "outputs": [],
   "source": [
    "from torch.utils.data import Dataset, DataLoader\n",
    "class DataBuilder(Dataset):\n",
    "    def __init__(self,DATA_PATH, train=True):\n",
    "        self.x, self.standardizer, self.wine = load_data(DATA_PATH)\n",
    "        if train:\n",
    "            self.x = torch.from_numpy(self.x)\n",
    "            self.len=self.x.shape[0]\n",
    "        else:\n",
    "            self.x = torch.from_numpy(self.x)\n",
    "            self.len=self.x.shape[0]\n",
    "    def __getitem__(self,index):      \n",
    "        return self.x[index]\n",
    "    def __len__(self):\n",
    "        return self.len"
   ]
  },
  {
   "cell_type": "code",
   "execution_count": 5,
   "id": "112f4cb3-1ee0-4e82-84c2-537764404fb2",
   "metadata": {},
   "outputs": [],
   "source": [
    "class Autoencoder(nn.Module):\n",
    "    def __init__(self,D_in,H=50,H2=12,latent_dim=3):\n",
    "        \n",
    "        #Encoder\n",
    "        super(Autoencoder,self).__init__()\n",
    "        self.linear1=nn.Linear(D_in,H)\n",
    "        self.lin_bn1 = nn.BatchNorm1d(num_features=H)\n",
    "        self.linear2=nn.Linear(H,H2)\n",
    "        self.lin_bn2 = nn.BatchNorm1d(num_features=H2)\n",
    "        self.linear3=nn.Linear(H2,H2)\n",
    "        self.lin_bn3 = nn.BatchNorm1d(num_features=H2)\n",
    "        \n",
    "#         # Latent vectors mu and sigma\n",
    "        self.fc1 = nn.Linear(H2, latent_dim)\n",
    "        self.bn1 = nn.BatchNorm1d(num_features=latent_dim)\n",
    "        self.fc21 = nn.Linear(latent_dim, latent_dim)\n",
    "        self.fc22 = nn.Linear(latent_dim, latent_dim)\n",
    "\n",
    "#         # Sampling vector\n",
    "        self.fc3 = nn.Linear(latent_dim, latent_dim)\n",
    "        self.fc_bn3 = nn.BatchNorm1d(latent_dim)\n",
    "        self.fc4 = nn.Linear(latent_dim, H2)\n",
    "        self.fc_bn4 = nn.BatchNorm1d(H2)\n",
    "        \n",
    "#         # Decoder\n",
    "        self.linear4=nn.Linear(H2,H2)\n",
    "        self.lin_bn4 = nn.BatchNorm1d(num_features=H2)\n",
    "        self.linear5=nn.Linear(H2,H)\n",
    "        self.lin_bn5 = nn.BatchNorm1d(num_features=H)\n",
    "        self.linear6=nn.Linear(H,D_in)\n",
    "        self.lin_bn6 = nn.BatchNorm1d(num_features=D_in)\n",
    "        \n",
    "        self.relu = nn.ReLU()\n",
    "        \n",
    "    def encode(self, x):\n",
    "        lin1 = self.relu(self.lin_bn1(self.linear1(x)))\n",
    "        lin2 = self.relu(self.lin_bn2(self.linear2(lin1)))\n",
    "        lin3 = self.relu(self.lin_bn3(self.linear3(lin2)))\n",
    "\n",
    "        fc1 = F.relu(self.bn1(self.fc1(lin3)))\n",
    "\n",
    "        r1 = self.fc21(fc1)\n",
    "        r2 = self.fc22(fc1)\n",
    "        \n",
    "        return r1, r2\n",
    "    \n",
    "    def reparameterize(self, mu, logvar):\n",
    "        if self.training:\n",
    "            std = logvar.mul(0.5).exp_()\n",
    "            eps = Variable(std.data.new(std.size()).normal_())\n",
    "            return eps.mul(std).add_(mu)\n",
    "        else:\n",
    "            return mu\n",
    "        \n",
    "    def decode(self, z):\n",
    "        fc3 = self.relu(self.fc_bn3(self.fc3(z)))\n",
    "        fc4 = self.relu(self.fc_bn4(self.fc4(fc3)))\n",
    "\n",
    "        lin4 = self.relu(self.lin_bn4(self.linear4(fc4)))\n",
    "        lin5 = self.relu(self.lin_bn5(self.linear5(lin4)))\n",
    "        return self.lin_bn6(self.linear6(lin5))\n",
    "\n",
    "    def forward(self, x):\n",
    "        mu, logvar = self.encode(x)\n",
    "        z = self.reparameterize(mu, logvar)\n",
    "        # self.decode(z) ist später recon_batch, mu ist mu und logvar ist logvar\n",
    "        return self.decode(z), mu, logvar"
   ]
  },
  {
   "cell_type": "code",
   "execution_count": 6,
   "id": "3dce0406-ee5c-409a-8cf0-2a111abe439d",
   "metadata": {},
   "outputs": [],
   "source": [
    "class customLoss(nn.Module):\n",
    "    def __init__(self):\n",
    "        super(customLoss, self).__init__()\n",
    "        self.mse_loss = nn.MSELoss(reduction=\"sum\")\n",
    "    \n",
    "    # x_recon ist der im forward im Model erstellte recon_batch, x ist der originale x Batch, mu ist mu und logvar ist logvar \n",
    "    def forward(self, x_recon, x, mu, logvar):\n",
    "        loss_MSE = self.mse_loss(x_recon, x)\n",
    "        loss_KLD = -0.5 * torch.sum(1 + logvar - mu.pow(2) - logvar.exp())\n",
    "\n",
    "        return loss_MSE + loss_KLD\n",
    "\n",
    "# takes in a module and applies the specified weight initialization\n",
    "def weights_init_uniform_rule(m):\n",
    "    classname = m.__class__.__name__\n",
    "    # for every Linear layer in a model..\n",
    "    if classname.find('Linear') != -1:\n",
    "        # get the number of the inputs\n",
    "        n = m.in_features\n",
    "        y = 1.0/np.sqrt(n)\n",
    "        m.weight.data.uniform_(-y, y)\n",
    "        m.bias.data.fill_(0)"
   ]
  },
  {
   "cell_type": "code",
   "execution_count": 7,
   "id": "366a3ce6-4bce-4937-a4f0-80becf12408f",
   "metadata": {},
   "outputs": [],
   "source": [
    "data_set=DataBuilder(DATA_PATH)\n",
    "trainloader=DataLoader(dataset=data_set,batch_size=1024)"
   ]
  },
  {
   "cell_type": "code",
   "execution_count": 8,
   "id": "84ce299e-3acf-4b69-8589-9115fa391e52",
   "metadata": {},
   "outputs": [],
   "source": [
    "D_in = data_set.x.shape[1]\n",
    "H = 50\n",
    "H2 = 12\n",
    "model = Autoencoder(D_in, H, H2).to(device)\n",
    "model.apply(weights_init_uniform_rule)\n",
    "optimizer = optim.Adam(model.parameters(), lr=1e-3)\n",
    "loss_mse = customLoss()#LOSS\n"
   ]
  },
  {
   "cell_type": "code",
   "execution_count": 9,
   "id": "7203e0cf-ab91-4880-bd66-06243cb6799a",
   "metadata": {},
   "outputs": [],
   "source": [
    "# Traning the Model\n",
    "def train(epoch):\n",
    "    model.train()\n",
    "    train_loss = 0\n",
    "    for batch_idx, data in enumerate(trainloader):\n",
    "        data = data.to(device)#.to(torch.float32)\n",
    "        optimizer.zero_grad()\n",
    "        recon_batch, mu, logvar = model(data)\n",
    "        loss = loss_mse(recon_batch, data, mu, logvar)\n",
    "        loss.backward()\n",
    "        train_loss += loss.item()\n",
    "        optimizer.step()\n",
    "\n",
    "    if epoch % 200 == 0:        \n",
    "        print('====> Epoch: {} Average loss: {:.4f}'.format(\n",
    "            epoch, train_loss / len(trainloader.dataset)))\n",
    "        train_losses.append(train_loss / len(trainloader.dataset))"
   ]
  },
  {
   "cell_type": "code",
   "execution_count": 10,
   "id": "7a95c5ae-8a44-4aac-b7e3-bc1574b0db40",
   "metadata": {},
   "outputs": [
    {
     "name": "stdout",
     "output_type": "stream",
     "text": [
      "====> Epoch: 200 Average loss: 13.0982\n",
      "====> Epoch: 400 Average loss: 9.1792\n",
      "====> Epoch: 600 Average loss: 8.9058\n",
      "====> Epoch: 800 Average loss: 8.1939\n",
      "====> Epoch: 1000 Average loss: 7.8505\n",
      "====> Epoch: 1200 Average loss: 7.7301\n",
      "====> Epoch: 1400 Average loss: 7.6486\n",
      "====> Epoch: 1600 Average loss: 7.4416\n",
      "====> Epoch: 1800 Average loss: 7.1600\n",
      "====> Epoch: 2000 Average loss: 7.1746\n",
      "====> Epoch: 2200 Average loss: 6.8434\n",
      "====> Epoch: 2400 Average loss: 6.7923\n",
      "====> Epoch: 2600 Average loss: 6.8142\n",
      "====> Epoch: 2800 Average loss: 6.6260\n",
      "====> Epoch: 3000 Average loss: 6.7376\n",
      "====> Epoch: 3200 Average loss: 6.6228\n",
      "====> Epoch: 3400 Average loss: 6.5936\n",
      "====> Epoch: 3600 Average loss: 6.5588\n",
      "====> Epoch: 3800 Average loss: 6.5468\n",
      "====> Epoch: 4000 Average loss: 6.4159\n",
      "====> Epoch: 4200 Average loss: 6.2713\n",
      "====> Epoch: 4400 Average loss: 6.3426\n",
      "====> Epoch: 4600 Average loss: 6.5079\n",
      "====> Epoch: 4800 Average loss: 6.3587\n",
      "====> Epoch: 5000 Average loss: 6.2729\n",
      "====> Epoch: 5200 Average loss: 6.4437\n",
      "====> Epoch: 5400 Average loss: 6.2304\n",
      "====> Epoch: 5600 Average loss: 6.3147\n",
      "====> Epoch: 5800 Average loss: 6.3365\n",
      "====> Epoch: 6000 Average loss: 6.3461\n",
      "====> Epoch: 6200 Average loss: 6.3647\n",
      "====> Epoch: 6400 Average loss: 6.3702\n",
      "====> Epoch: 6600 Average loss: 6.2111\n",
      "====> Epoch: 6800 Average loss: 6.3336\n",
      "====> Epoch: 7000 Average loss: 6.1030\n",
      "====> Epoch: 7200 Average loss: 6.2464\n",
      "====> Epoch: 7400 Average loss: 6.0829\n",
      "====> Epoch: 7600 Average loss: 6.1972\n",
      "====> Epoch: 7800 Average loss: 6.2702\n",
      "====> Epoch: 8000 Average loss: 6.1181\n",
      "====> Epoch: 8200 Average loss: 6.3266\n",
      "====> Epoch: 8400 Average loss: 6.0546\n",
      "====> Epoch: 8600 Average loss: 6.3461\n",
      "====> Epoch: 8800 Average loss: 6.0992\n",
      "====> Epoch: 9000 Average loss: 6.3050\n",
      "====> Epoch: 9200 Average loss: 6.0578\n",
      "====> Epoch: 9400 Average loss: 6.1324\n",
      "====> Epoch: 9600 Average loss: 6.2636\n",
      "====> Epoch: 9800 Average loss: 6.1219\n",
      "====> Epoch: 10000 Average loss: 6.0738\n",
      "====> Epoch: 10200 Average loss: 6.1273\n",
      "====> Epoch: 10400 Average loss: 6.0901\n",
      "====> Epoch: 10600 Average loss: 6.1108\n",
      "====> Epoch: 10800 Average loss: 6.1042\n",
      "====> Epoch: 11000 Average loss: 6.1383\n",
      "====> Epoch: 11200 Average loss: 6.0964\n",
      "====> Epoch: 11400 Average loss: 6.1358\n",
      "====> Epoch: 11600 Average loss: 6.3170\n",
      "====> Epoch: 11800 Average loss: 6.0772\n",
      "====> Epoch: 12000 Average loss: 6.0535\n",
      "====> Epoch: 12200 Average loss: 6.2265\n",
      "====> Epoch: 12400 Average loss: 6.1831\n",
      "====> Epoch: 12600 Average loss: 6.2853\n",
      "====> Epoch: 12800 Average loss: 6.0818\n",
      "====> Epoch: 13000 Average loss: 6.2316\n",
      "====> Epoch: 13200 Average loss: 6.0068\n",
      "====> Epoch: 13400 Average loss: 6.0116\n",
      "====> Epoch: 13600 Average loss: 6.3565\n",
      "====> Epoch: 13800 Average loss: 6.1852\n",
      "====> Epoch: 14000 Average loss: 5.9683\n",
      "====> Epoch: 14200 Average loss: 6.0104\n",
      "====> Epoch: 14400 Average loss: 6.1131\n",
      "====> Epoch: 14600 Average loss: 6.0625\n",
      "====> Epoch: 14800 Average loss: 6.0444\n",
      "====> Epoch: 15000 Average loss: 6.0819\n",
      "====> Epoch: 15200 Average loss: 5.9099\n",
      "====> Epoch: 15400 Average loss: 6.0012\n"
     ]
    }
   ],
   "source": [
    "epochs = 15500\n",
    "log_interval = 50\n",
    "val_losses = []\n",
    "train_losses = []\n",
    "test_losses = []\n",
    "\n",
    "for epoch in range(1, epochs + 1):\n",
    "    train(epoch)"
   ]
  },
  {
   "cell_type": "code",
   "execution_count": 11,
   "id": "f2170490-07da-483c-b89e-5516618eb223",
   "metadata": {},
   "outputs": [],
   "source": [
    "# This ensures that the input data is scaled in the same way as the \n",
    "# training data, which can improve the performance of the model.\n",
    "standardizer = trainloader.dataset.standardizer\n",
    "\n",
    "model.eval()\n",
    "test_loss = 0\n",
    "# no_grad() bedeutet wir nehmen die vorher berechneten Gewichte und erneuern sie nicht\n",
    "with torch.no_grad():\n",
    "    for i, data in enumerate(trainloader):\n",
    "        data = data.to(device)#.to(torch.float32)\n",
    "        recon_batch, mu, logvar = model(data)\n",
    "\n",
    "#standardizer.inverse_transform(recon_batch[65].cpu().numpy())\n",
    "#standardizer.inverse_transform(data[65].cpu().numpy())"
   ]
  },
  {
   "cell_type": "code",
   "execution_count": 12,
   "id": "483cea07-fced-46c6-8fb0-9732c4898ac6",
   "metadata": {},
   "outputs": [
    {
     "data": {
      "text/plain": [
       "torch.Size([178, 3])"
      ]
     },
     "execution_count": 12,
     "metadata": {},
     "output_type": "execute_result"
    }
   ],
   "source": [
    "mu_output = []\n",
    "logvar_output = []\n",
    "\n",
    "with torch.no_grad():\n",
    "    for i, (data) in enumerate(trainloader):\n",
    "            data = data.to(device)\n",
    "            optimizer.zero_grad()\n",
    "            recon_batch, mu, logvar = model(data)\n",
    "\n",
    "            mu_tensor = mu   \n",
    "            mu_output.append(mu_tensor)\n",
    "            mu_result = torch.cat(mu_output, dim=0)\n",
    "\n",
    "            logvar_tensor = logvar   \n",
    "            logvar_output.append(logvar_tensor)\n",
    "            logvar_result = torch.cat(logvar_output, dim=0)\n",
    "\n",
    "mu_result.shape"
   ]
  },
  {
   "cell_type": "code",
   "execution_count": 13,
   "id": "80d38048-baea-4b4c-be06-de1adf1d8353",
   "metadata": {},
   "outputs": [
    {
     "data": {
      "image/png": "[encoded data removed]",
      "text/plain": [
       "<Figure size 640x480 with 1 Axes>"
      ]
     },
     "metadata": {},
     "output_type": "display_data"
    }
   ],
   "source": [
    "ax = plt.axes(projection='3d')\n",
    "# Data for three-dimensional scattered points\n",
    "winetype = data_set.wine\n",
    "zdata = mu_result[:,0].cpu().numpy()\n",
    "xdata = mu_result[:,1].cpu().numpy()\n",
    "ydata = mu_result[:,2].cpu().numpy()\n",
    "ax.scatter3D(xdata, ydata, zdata, c=winetype);"
   ]
  },
  {
   "cell_type": "code",
   "execution_count": null,
   "id": "31e56931-806c-4e4b-b63d-f5b563fa9a57",
   "metadata": {},
   "outputs": [],
   "source": []
  }
 ],
 "metadata": {
  "kernelspec": {
   "display_name": "Python 3 (ipykernel)",
   "language": "python",
   "name": "python3"
  },
  "language_info": {
   "codemirror_mode": {
    "name": "ipython",
    "version": 3
   },
   "file_extension": ".py",
   "mimetype": "text/x-python",
   "name": "python",
   "nbconvert_exporter": "python",
   "pygments_lexer": "ipython3",
   "version": "3.10.11"
  }
 },
 "nbformat": 4,
 "nbformat_minor": 5
}
